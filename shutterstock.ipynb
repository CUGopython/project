{
 "cells": [
  {
   "cell_type": "code",
   "execution_count": null,
   "metadata": {},
   "outputs": [],
   "source": [
    "from bs4 import BeautifulSoup\n",
    "import requests"
   ]
  },
  {
   "cell_type": "code",
   "execution_count": null,
   "metadata": {},
   "outputs": [],
   "source": [
    "import os\n",
    "\n",
    "os.makedirs('./img/columbia3/', exist_ok=True)"
   ]
  },
  {
   "cell_type": "code",
   "execution_count": null,
   "metadata": {},
   "outputs": [],
   "source": [
    "urlpart1= \"https://www.shutterstock.com/search?\"\n",
    "urlpart2=\"&section=1&searchterm=columbia%20university&measurement=px&sort=popular&safe=true&search_source=base_search_form&language=zh&saveFiltersLink=true\"\n",
    "for i in range(1,15):\n",
    "    URL=urlpart1+ 'page=i' + urlpart2\n",
    "    html = requests.get(URL).text\n",
    "    soup = BeautifulSoup(html, 'lxml')\n",
    "    img_ul = soup.find_all('div', {\"class\": \"img-wrap\"})\n",
    "    base_url=''\n",
    "    for ul in img_ul:  \n",
    "        imgs = ul.find_all('img')\n",
    "        for img in imgs:\n",
    "            url2 = img['src'].strip('../')\n",
    "            r = requests.get(url2, stream=True)\n",
    "            image_name = str(i)+url2.split('/')[-1]\n",
    "            with open('./img/columbia3/%s' % image_name, 'wb') as f:\n",
    "                for chunk in r.iter_content(chunk_size=128):\n",
    "                    f.write(chunk)\n",
    "                    print('Saved %s' % image_name)"
   ]
  }
 ],
 "metadata": {
  "kernelspec": {
   "display_name": "Python 3",
   "language": "python",
   "name": "python3"
  },
  "language_info": {
   "codemirror_mode": {
    "name": "ipython",
    "version": 3
   },
   "file_extension": ".py",
   "mimetype": "text/x-python",
   "name": "python",
   "nbconvert_exporter": "python",
   "pygments_lexer": "ipython3",
   "version": "3.6.5"
  }
 },
 "nbformat": 4,
 "nbformat_minor": 2
}
