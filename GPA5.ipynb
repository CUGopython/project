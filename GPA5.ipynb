{
 "cells": [
  {
   "cell_type": "code",
   "execution_count": null,
   "metadata": {},
   "outputs": [],
   "source": [
    "elif ',' in str(origpa):\n",
    "        gpa=float(str(origpa).replace(',', '.'))#.replace('', '')\n",
    "        print(gpa)\n",
    "    elif '+' in str(origpa):\n",
    "        gpa=float(origpa[:3])\n",
    "        print(gpa)\n",
    "    elif 'PhD' in str(origpa):\n",
    "        gpa=float(origpa[5:8])\n",
    "        print(gpa)\n",
    "    elif 'HK' in str(origpa):\n",
    "        new_value=float(origpa[:4])\n",
    "        gpa=new_value * 0.93\n",
    "        print(gpa)\n",
    "    elif '(8.03)' in str(origpa):\n",
    "        gpa=float(origpa[:3])\n",
    "        print(gpa)\n",
    "    elif '(8.0/10)' in str(origpa):\n",
    "        gpa=float(origpa[:4])\n",
    "        print(gpa)\n",
    "    elif 'German' in str(origpa):\n",
    "        new_value=float(origpa[:4])\n",
    "        gpa=5-new_value\n",
    "        print(gpa)\n",
    "    elif '6/9' in str(origpa):\n",
    "        print(2.7)\n",
    "    elif '[' in str(origpa):\n",
    "        print(\"N/A\")\n",
    "    elif '~' in str(origpa):\n",
    "        print(\"N/A\")   \n",
    "    elif '2:1' in str(origpa):\n",
    "        print(\"N/A\")  \n",
    "    elif '2:2' in str(origpa):\n",
    "        print(\"N/A\")  "
   ]
  }
 ],
 "metadata": {
  "kernelspec": {
   "display_name": "Python 3",
   "language": "python",
   "name": "python3"
  },
  "language_info": {
   "codemirror_mode": {
    "name": "ipython",
    "version": 3
   },
   "file_extension": ".py",
   "mimetype": "text/x-python",
   "name": "python",
   "nbconvert_exporter": "python",
   "pygments_lexer": "ipython3",
   "version": "3.6.5"
  }
 },
 "nbformat": 4,
 "nbformat_minor": 2
}
