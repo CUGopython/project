{
 "cells": [
  {
   "cell_type": "code",
   "execution_count": 36,
   "metadata": {},
   "outputs": [],
   "source": [
    "import requests\n",
    "from bs4 import BeautifulSoup\n",
    "import pandas as pd\n",
    "import csv"
   ]
  },
  {
   "cell_type": "code",
   "execution_count": 30,
   "metadata": {},
   "outputs": [],
   "source": [
    "base = \"https://quantnet.com/tracker/\"\n",
    "GPA=[]\n",
    "GREQ=[]\n",
    "GREV=[]\n",
    "GREAWA=[]\n",
    "# score_len=[0,0,0,0]\n",
    "for i in range(1,341):\n",
    "    if i==1:\n",
    "        url=base\n",
    "    else:\n",
    "        url=base+'page-'+str(i)\n",
    "    response = requests.get(url)\n",
    "    if response.status_code == 200:\n",
    "        results = BeautifulSoup(response.content,'lxml')\n",
    "        \n",
    "        main_div=results.find_all('div',  {\"class\": \"structItem-cell structItem-cell--main\"})      \n",
    "        for _ in main_div:  \n",
    "            nonempty_check=_.find('div',{'class':'structItem-applicationScores'})\n",
    "            \n",
    "            \n",
    "            if nonempty_check:\n",
    "                all_dl=nonempty_check.find_all('dl',  {\"class\": \"pairs pairs--inline\"})  \n",
    "                flag=[0,0,0,0]\n",
    "#                 score_len.append(len(all_dl))\n",
    "                for score in all_dl:\n",
    "                    check_tag=score.find('dt')\n",
    "                    check=check_tag.get_text().strip('\\n').strip()\n",
    "                    if check == 'UGPA':\n",
    "                        flag[0]=1\n",
    "                        GPA_tag=score.find('dd')            \n",
    "                        GPA.append(GPA_tag.get_text().strip('\\n').strip())\n",
    "#                         score_len[0]+=1\n",
    "                    elif check == 'GRE Q':\n",
    "                        flag[1]=1\n",
    "                        GREQ_tag=score.find('dd')            \n",
    "                        GREQ.append(GREQ_tag.get_text().strip('\\n').strip())\n",
    "#                         score_len[1]+=1\n",
    "                    elif check == 'GRE V':\n",
    "                        flag[2]=1\n",
    "                        GREV_tag=score.find('dd')            \n",
    "                        GREV.append(GREV_tag.get_text().strip('\\n').strip())\n",
    "#                         score_len[2]+=1\n",
    "                    elif check == 'GRE AWA':\n",
    "                        flag[3]=1\n",
    "                        GREAWA_tag=score.find('dd')            \n",
    "                        GREAWA.append(GREAWA_tag.get_text().strip('\\n').strip())\n",
    "#                         score_len[3]+=1\n",
    "                else:\n",
    "                    if not flag[0]:\n",
    "                        GPA.append(None)\n",
    "#                         score_len[0]+=1\n",
    "                    if not flag[1]:\n",
    "                        GREQ.append(None)\n",
    "#                         score_len[1]+=1\n",
    "                    if not flag[2]:\n",
    "                        GREV.append(None)\n",
    "#                         score_len[2]+=1\n",
    "                    if not flag[3]:\n",
    "                        GREAWA.append(None)\n",
    "#                         score_len[3]+=1\n",
    "                    \n",
    "            else:\n",
    "                GPA.append(None)\n",
    "                GREQ.append(None)\n",
    "                GREV.append(None)\n",
    "                GREAWA.append(None)\n",
    "            \n",
    "            \n",
    "    else:\n",
    "        print(\"Failure\")"
   ]
  },
  {
   "cell_type": "code",
   "execution_count": 31,
   "metadata": {},
   "outputs": [
    {
     "name": "stdout",
     "output_type": "stream",
     "text": [
      "6785 6785 6785 6785\n"
     ]
    }
   ],
   "source": [
    "# print(GPA,'\\n',GREQ,'\\n',GREV,'\\n',GREAWA)\n",
    "print(len(GPA),len(GREQ),len(GREV),len(GREAWA))"
   ]
  },
  {
   "cell_type": "code",
   "execution_count": 32,
   "metadata": {},
   "outputs": [],
   "source": [
    "full=[]\n",
    "for i in range(len(GPA)):\n",
    "    new=[]\n",
    "    new.append(GPA[i])\n",
    "    new.append(GREQ[i])\n",
    "    new.append(GREV[i])\n",
    "    new.append(GREAWA[i])\n",
    "    full.append(new)\n",
    "    "
   ]
  },
  {
   "cell_type": "code",
   "execution_count": 38,
   "metadata": {
    "scrolled": true
   },
   "outputs": [],
   "source": [
    "name = ['GPA','GREQ','GREV','GREAWA']\n",
    "test = pd.DataFrame(columns=name, data=full)\n",
    "test.to_csv('/Users/liurui/Downloads/score.csv')"
   ]
  },
  {
   "cell_type": "code",
   "execution_count": null,
   "metadata": {},
   "outputs": [],
   "source": []
  }
 ],
 "metadata": {
  "kernelspec": {
   "display_name": "Python 3",
   "language": "python",
   "name": "python3"
  },
  "language_info": {
   "codemirror_mode": {
    "name": "ipython",
    "version": 3
   },
   "file_extension": ".py",
   "mimetype": "text/x-python",
   "name": "python",
   "nbconvert_exporter": "python",
   "pygments_lexer": "ipython3",
   "version": "3.6.5"
  }
 },
 "nbformat": 4,
 "nbformat_minor": 2
}
