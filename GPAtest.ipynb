{
 "cells": [
  {
   "cell_type": "code",
   "execution_count": 1,
   "metadata": {},
   "outputs": [],
   "source": [
    "import pandas as pd"
   ]
  },
  {
   "cell_type": "code",
   "execution_count": null,
   "metadata": {},
   "outputs": [],
   "source": [
    "df.head(10).GPA.str.endswith('10') | df.head(10).GPA.str.endswith('4')"
   ]
  },
  {
   "cell_type": "code",
   "execution_count": null,
   "metadata": {},
   "outputs": [],
   "source": [
    "for origpa in df.head(10)['GPA']:\n",
    "    print(type(origpa))"
   ]
  },
  {
   "cell_type": "code",
   "execution_count": null,
   "metadata": {},
   "outputs": [],
   "source": [
    "for origpa in df['GPA']:\n",
    "    if r'\\d+' in str(origpa):\n",
    "        print(str(origpa))\n",
    "        if float(str(origpa))>10:\n",
    "            gpa=float(str(origpa))/25\n",
    "            print(gpa)\n",
    "        elif float(str(origpa))>4 and float(str(origpa))<=10:\n",
    "            gpa=float(str(origpa))/2.5\n",
    "            print(gpa)\n",
    "        else:\n",
    "            gpa=float(str(origpa))\n",
    "            print(gpa)\n",
    "   "
   ]
  },
  {
   "cell_type": "code",
   "execution_count": null,
   "metadata": {},
   "outputs": [],
   "source": [
    "print(origpa in df.head(10)['GPA'])"
   ]
  },
  {
   "cell_type": "code",
   "execution_count": null,
   "metadata": {},
   "outputs": [],
   "source": []
  }
 ],
 "metadata": {
  "kernelspec": {
   "display_name": "Python 3",
   "language": "python",
   "name": "python3"
  },
  "language_info": {
   "codemirror_mode": {
    "name": "ipython",
    "version": 3
   },
   "file_extension": ".py",
   "mimetype": "text/x-python",
   "name": "python",
   "nbconvert_exporter": "python",
   "pygments_lexer": "ipython3",
   "version": "3.6.5"
  }
 },
 "nbformat": 4,
 "nbformat_minor": 2
}
