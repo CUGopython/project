{
 "cells": [
  {
   "cell_type": "code",
   "execution_count": 1,
   "metadata": {},
   "outputs": [],
   "source": [
    "import requests\n",
    "from bs4 import BeautifulSoup\n",
    "import pandas as pd"
   ]
  },
  {
   "cell_type": "code",
   "execution_count": 2,
   "metadata": {},
   "outputs": [],
   "source": [
    "#get program title data\n",
    "base = \"https://quantnet.com/tracker/\"\n",
    "title=[]\n",
    "for i in range(1,341):\n",
    "    if i==1:\n",
    "        url=base\n",
    "    else:\n",
    "        url=base+'page-'+str(i)\n",
    "    response = requests.get(url)\n",
    "    if response.status_code == 200:\n",
    "#         print(\"Success\")\n",
    "        results = BeautifulSoup(response.content,'lxml')\n",
    "        all_div=results.find_all('div',  {\"class\": \"structItem-title\"})\n",
    "        for _ in all_div:\n",
    "            title_tag=_.find('a') \n",
    "            title.append(title_tag.get_text().strip('\\n').strip())\n",
    "    else:\n",
    "        print(\"Page %d Failure: \"% i)\n"
   ]
  },
  {
   "cell_type": "code",
   "execution_count": 3,
   "metadata": {},
   "outputs": [],
   "source": [
    "#put program title data into a csv\n",
    "name=['title']\n",
    "titlecsv= pd.DataFrame(columns=name, data= title)\n",
    "titlecsv.to_csv('./quantdata/title.csv')"
   ]
  },
  {
   "cell_type": "code",
   "execution_count": null,
   "metadata": {},
   "outputs": [],
   "source": [
    "#get application date data\n",
    "base = \"https://quantnet.com/tracker/\"\n",
    "date=[]\n",
    "for i in range(1,341):\n",
    "    if i==1:\n",
    "        url=base\n",
    "    else:\n",
    "        url=base+'page-'+str(i)\n",
    "    response = requests.get(url)\n",
    "    if response.status_code == 200:\n",
    "#         print(\"Success\")\n",
    "        results = BeautifulSoup(response.content,'lxml')\n",
    "        all_ul=results.find_all('ul',  {\"class\": \"structItem-parts\"})\n",
    "        for _ in all_ul:\n",
    "            li=_.find('li',{'class':'structItem-dateSubmitted'})\n",
    "            if li:\n",
    "                date.append(li.get_text().strip('\\n').strip())\n",
    "            else:\n",
    "                date.append(None)\n",
    "    else:\n",
    "        print(\"Page %d Failure: \"% i)\n"
   ]
  },
  {
   "cell_type": "code",
   "execution_count": 5,
   "metadata": {},
   "outputs": [],
   "source": [
    "#put date data into a csv\n",
    "name=['date']\n",
    "datecsv= pd.DataFrame(columns=name, data= date)\n",
    "datecsv.to_csv('./quantdata/date.csv')"
   ]
  },
  {
   "cell_type": "code",
   "execution_count": 6,
   "metadata": {},
   "outputs": [],
   "source": [
    "#get application type data, full time or part time\n",
    "base = \"https://quantnet.com/tracker/\"\n",
    "type=[]\n",
    "for i in range(1,341):\n",
    "    if i==1:\n",
    "        url=base\n",
    "    else:\n",
    "        url=base+'page-'+str(i)\n",
    "    response = requests.get(url)\n",
    "    if response.status_code == 200:\n",
    "        results = BeautifulSoup(response.content,'lxml')\n",
    "        all_div=results.find_all('li',  {\"class\": \"structItem-type\"})\n",
    "        for _ in all_div:\n",
    "            type_tag=_.find('span') \n",
    "            type.append(type_tag.get_text().strip('\\n').strip())\n",
    "    else:\n",
    "        print(\"Failure\")"
   ]
  },
  {
   "cell_type": "code",
   "execution_count": 7,
   "metadata": {},
   "outputs": [],
   "source": [
    "#put type data into a csv\n",
    "name=['Type']\n",
    "typecsv=pd.DataFrame(columns=name,data=type)\n",
    "typecsv.to_csv('./quantdata/type.csv')"
   ]
  },
  {
   "cell_type": "code",
   "execution_count": 8,
   "metadata": {},
   "outputs": [],
   "source": [
    "#get applicants' scores data, including GPAs and GRE resuls\n",
    "base = \"https://quantnet.com/tracker/\"\n",
    "GPA=[]\n",
    "GREQ=[]\n",
    "GREV=[]\n",
    "GREAWA=[]\n",
    "# score_len=[0,0,0,0]\n",
    "for i in range(1,341):\n",
    "    if i==1:\n",
    "        url=base\n",
    "    else:\n",
    "        url=base+'page-'+str(i)\n",
    "    response = requests.get(url)\n",
    "    if response.status_code == 200:\n",
    "        results = BeautifulSoup(response.content,'lxml')\n",
    "        \n",
    "        main_div=results.find_all('div',  {\"class\": \"structItem-cell structItem-cell--main\"})      \n",
    "        for _ in main_div:  \n",
    "            nonempty_check=_.find('div',{'class':'structItem-applicationScores'})\n",
    "            \n",
    "            \n",
    "            if nonempty_check:\n",
    "                all_dl=nonempty_check.find_all('dl',  {\"class\": \"pairs pairs--inline\"})  \n",
    "                flag=[0,0,0,0]\n",
    "#                 score_len.append(len(all_dl))\n",
    "                for score in all_dl:\n",
    "                    check_tag=score.find('dt')\n",
    "                    check=check_tag.get_text().strip('\\n').strip()\n",
    "                    if check == 'UGPA':\n",
    "                        flag[0]=1\n",
    "                        GPA_tag=score.find('dd')            \n",
    "                        GPA.append(GPA_tag.get_text().strip('\\n').strip())\n",
    "#                         score_len[0]+=1\n",
    "                    elif check == 'GRE Q':\n",
    "                        flag[1]=1\n",
    "                        GREQ_tag=score.find('dd')            \n",
    "                        GREQ.append(GREQ_tag.get_text().strip('\\n').strip())\n",
    "#                         score_len[1]+=1\n",
    "                    elif check == 'GRE V':\n",
    "                        flag[2]=1\n",
    "                        GREV_tag=score.find('dd')            \n",
    "                        GREV.append(GREV_tag.get_text().strip('\\n').strip())\n",
    "#                         score_len[2]+=1\n",
    "                    elif check == 'GRE AWA':\n",
    "                        flag[3]=1\n",
    "                        GREAWA_tag=score.find('dd')            \n",
    "                        GREAWA.append(GREAWA_tag.get_text().strip('\\n').strip())\n",
    "#                         score_len[3]+=1\n",
    "                else:\n",
    "                    if not flag[0]:\n",
    "                        GPA.append(None)\n",
    "#                         score_len[0]+=1\n",
    "                    if not flag[1]:\n",
    "                        GREQ.append(None)\n",
    "#                         score_len[1]+=1\n",
    "                    if not flag[2]:\n",
    "                        GREV.append(None)\n",
    "#                         score_len[2]+=1\n",
    "                    if not flag[3]:\n",
    "                        GREAWA.append(None)\n",
    "#                         score_len[3]+=1\n",
    "                    \n",
    "            else:\n",
    "                GPA.append(None)\n",
    "                GREQ.append(None)\n",
    "                GREV.append(None)\n",
    "                GREAWA.append(None)\n",
    "            \n",
    "            \n",
    "    else:\n",
    "        print(\"Failure\")"
   ]
  },
  {
   "cell_type": "code",
   "execution_count": 9,
   "metadata": {},
   "outputs": [],
   "source": [
    "#put score data into a csv\n",
    "full=[]\n",
    "for i in range(len(GPA)):\n",
    "    new=[]\n",
    "    new.append(GPA[i])\n",
    "    new.append(GREQ[i])\n",
    "    new.append(GREV[i])\n",
    "    new.append(GREAWA[i])\n",
    "    full.append(new)\n",
    "    \n",
    "name = ['GPA','GREQ','GREV','GREAWA']\n",
    "scorecsv = pd.DataFrame(columns=name, data=full)\n",
    "scorecsv.to_csv('./quantdata/score.csv')"
   ]
  },
  {
   "cell_type": "code",
   "execution_count": 10,
   "metadata": {},
   "outputs": [],
   "source": [
    "#get applicants' status data, pass, fail or pending\n",
    "base = \"https://quantnet.com/tracker/\"\n",
    "status=[]\n",
    "for i in range(1,341):\n",
    "    if i==1:\n",
    "        url=base\n",
    "    else:\n",
    "        url=base+'page-'+str(i)\n",
    "    response = requests.get(url)\n",
    "    if response.status_code == 200:\n",
    "        results = BeautifulSoup(response.content,'lxml')\n",
    "        all_div=results.find_all('li',  {\"class\": \"structItem-result\"})\n",
    "        for _ in all_div:\n",
    "            status_tag=_.find('span') \n",
    "            status.append(status_tag.get_text().strip('\\n').strip())\n",
    "    else:\n",
    "        print(\"Failure\")"
   ]
  },
  {
   "cell_type": "code",
   "execution_count": 11,
   "metadata": {},
   "outputs": [],
   "source": [
    "#put status data into a csv\n",
    "name=['Status']\n",
    "statuscsv=pd.DataFrame(columns=name,data=status)\n",
    "statuscsv.to_csv('./quantdata/status.csv')"
   ]
  },
  {
   "cell_type": "code",
   "execution_count": null,
   "metadata": {},
   "outputs": [],
   "source": []
  }
 ],
 "metadata": {
  "kernelspec": {
   "display_name": "Python 3",
   "language": "python",
   "name": "python3"
  },
  "language_info": {
   "codemirror_mode": {
    "name": "ipython",
    "version": 3
   },
   "file_extension": ".py",
   "mimetype": "text/x-python",
   "name": "python",
   "nbconvert_exporter": "python",
   "pygments_lexer": "ipython3",
   "version": "3.6.5"
  }
 },
 "nbformat": 4,
 "nbformat_minor": 2
}
