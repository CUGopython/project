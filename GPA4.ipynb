{
 "cells": [
  {
   "cell_type": "code",
   "execution_count": null,
   "metadata": {},
   "outputs": [],
   "source": [
    "elif 'Hon' in str(origpa):\n",
    "        print('N/A')\n",
    "    elif 'Cla' in str(origpa):\n",
    "        print('N/A')\n",
    "    elif 'cla' in str(origpa):\n",
    "        print('N/A')\n",
    "    elif 'first' in str(origpa):\n",
    "        print('N/A')\n",
    "    elif 'Upper' in str(origpa):\n",
    "        print('N/A')\n",
    "    elif 'n.a' in str(origpa):\n",
    "        print('N/A')\n",
    "    elif '(UK)' in str(origpa):\n",
    "        print('N/A')\n",
    "    elif '1st' in str(origpa):\n",
    "        print('N/A')\n",
    "    elif 'No GPA' in str(origpa):\n",
    "        print('N/A')\n",
    "    elif origpa == '':\n",
    "        print('N/A')\n",
    "\n",
    "    elif '%' in str(origpa):\n",
    "        gpa=float(str(origpa)[:len(str(origpa))-1])/25\n",
    "        print(gpa)\n",
    "    elif 'WES' in str(origpa):\n",
    "        gpa=float(str(origpa)[:4])\n",
    "        print(gpa)\n",
    "    elif 'wes' in str(origpa):\n",
    "        gpa=float(str(origpa)[:4])\n",
    "        print(gpa)\n",
    "    elif 'WUS' in str(origpa):\n",
    "        gpa=float(str(origpa)[:3])\n",
    "        print(gpa)\n",
    "    elif '(core ' in str(origpa):\n",
    "        gpa=float(str(origpa)[:4])\n",
    "        print(gpa)"
   ]
  }
 ],
 "metadata": {
  "kernelspec": {
   "display_name": "Python 3",
   "language": "python",
   "name": "python3"
  },
  "language_info": {
   "codemirror_mode": {
    "name": "ipython",
    "version": 3
   },
   "file_extension": ".py",
   "mimetype": "text/x-python",
   "name": "python",
   "nbconvert_exporter": "python",
   "pygments_lexer": "ipython3",
   "version": "3.6.5"
  }
 },
 "nbformat": 4,
 "nbformat_minor": 2
}
