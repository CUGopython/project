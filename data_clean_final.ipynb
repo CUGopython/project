{
 "cells": [
  {
   "cell_type": "code",
   "execution_count": 16,
   "metadata": {},
   "outputs": [],
   "source": [
    "import pandas as pd\n",
    "import csv\n",
    "import datetime\n",
    "import re\n",
    "import numpy as np"
   ]
  },
  {
   "cell_type": "code",
   "execution_count": 113,
   "metadata": {},
   "outputs": [],
   "source": [
    "pd.set_option('display.width', 10000, 'display.max_rows', 10000)"
   ]
  },
  {
   "cell_type": "code",
   "execution_count": 2,
   "metadata": {},
   "outputs": [],
   "source": [
    "tag=['date','type','score','status']\n",
    "\n",
    "# quant=pd.read_csv('title.csv')\n",
    "quant=pd.read_csv('/Users/liurui/Downloads/quantdata/title.csv')\n",
    "#Please use your path where you save your quantdata\n",
    "quant=quant.drop(list(quant)[0],axis=1)\n",
    "for i in tag:\n",
    "#     data=pd.read_csv(i+'.csv')\n",
    "    data=pd.read_csv('/Users/liurui/Downloads/quantdata/'+i+'.csv')\n",
    "    data=data.drop(columns=list(data)[0])\n",
    "    quant=quant.join(data)\n",
    "# list(quant.index)\n",
    "# date.set_index('Unnamed',inplace=True)"
   ]
  },
  {
   "cell_type": "code",
   "execution_count": 3,
   "metadata": {},
   "outputs": [
    {
     "name": "stderr",
     "output_type": "stream",
     "text": [
      "/anaconda3/lib/python3.6/site-packages/ipykernel_launcher.py:12: SettingWithCopyWarning: \n",
      "A value is trying to be set on a copy of a slice from a DataFrame\n",
      "\n",
      "See the caveats in the documentation: http://pandas.pydata.org/pandas-docs/stable/indexing.html#indexing-view-versus-copy\n",
      "  if sys.path[0] == '':\n",
      "/anaconda3/lib/python3.6/site-packages/ipykernel_launcher.py:13: SettingWithCopyWarning: \n",
      "A value is trying to be set on a copy of a slice from a DataFrame\n",
      "\n",
      "See the caveats in the documentation: http://pandas.pydata.org/pandas-docs/stable/indexing.html#indexing-view-versus-copy\n",
      "  del sys.path[0]\n",
      "/anaconda3/lib/python3.6/site-packages/ipykernel_launcher.py:14: SettingWithCopyWarning: \n",
      "A value is trying to be set on a copy of a slice from a DataFrame\n",
      "\n",
      "See the caveats in the documentation: http://pandas.pydata.org/pandas-docs/stable/indexing.html#indexing-view-versus-copy\n",
      "  \n"
     ]
    }
   ],
   "source": [
    "#remove rows which are NaN in GREQ, GREV or GREWA\n",
    "quant_no_na = quant.dropna()\n",
    "# print(list(quant_no_na.index))\n",
    "#Remove rows which contains -\n",
    "quant_no_na=quant_no_na[ ~ quant_no_na['GREAWA'].str.contains('-') ]\n",
    "quant_no_na=quant_no_na[ ~ quant_no_na['GREAWA'].str.contains('GMAT') ]\n",
    "\n",
    "#Remove typing errors\n",
    "#p=quant_no_na[quant_no_na['GREAWA'].str.contains('highest')]\n",
    "\n",
    "quant_no_na.GREAWA[quant_no_na['GREAWA']=='3,5']=\"3.5\"\n",
    "quant_no_na.GREAWA[quant_no_na['GREAWA']=='2.5(highest 3)']=\"2.5\"\n",
    "quant_no_na.GREAWA[quant_no_na['GREAWA']=='3.5 (highest 4)']=\"3.5\"\n",
    "quant_no_na.GREAWA[quant_no_na['GREAWA']=='3.0 (highest 3.5)']=\"3.5\"\n",
    "\n",
    "\n",
    "# quant_no_na = quant.dropna(subset=['GREQ', 'GREV','GREAWA'])\n",
    "# quant_no_na\n",
    "##check\n",
    "# A=quant_no_na.loc[quant_no_na['title'] == 'Toronto MathFin']\n",
    "# B=A.loc[quant_no_na['GPA'] == 3.62]\n",
    "# A.sort_values([\"GPA\"])\n"
   ]
  },
  {
   "cell_type": "code",
   "execution_count": 4,
   "metadata": {},
   "outputs": [],
   "source": [
    "#change data type of each column\n",
    "# quant_no_na['date'] = pd.to_datetime(quant_no_na['date'])\n",
    "# quant_no_na.set_index(\"date\", inplace=True)\n",
    "\n",
    "# quant_no_na.set_index(\"date\", inplace=True)\n",
    "# quant_no_na.index = pd.DatetimeIndex(quanr_.index)\n",
    "\n",
    "\n",
    "#convert GRE Scores to right data types\n",
    "quant_cleanGRE = quant_no_na.astype({ \"GREQ\": int, \"GREV\": int, 'GREAWA': float})\n",
    "#quant_cleanGRE\n"
   ]
  },
  {
   "cell_type": "code",
   "execution_count": 5,
   "metadata": {},
   "outputs": [],
   "source": [
    "#print(quant_cleanGRE[quant_cleanGRE[\"GREAWA\"]>6])"
   ]
  },
  {
   "cell_type": "code",
   "execution_count": 6,
   "metadata": {},
   "outputs": [],
   "source": [
    "quant_cleanGRE=quant_cleanGRE[~(quant_cleanGRE['GREAWA']>6)]\n",
    "#quant_cleanGRE\n",
    "#print(quant_cleanGRE[(quant_cleanGRE['GREV']>170) | (quant_cleanGRE['GREQ']>170)])\n",
    "\n"
   ]
  },
  {
   "cell_type": "code",
   "execution_count": 7,
   "metadata": {},
   "outputs": [
    {
     "name": "stderr",
     "output_type": "stream",
     "text": [
      "/anaconda3/lib/python3.6/site-packages/ipykernel_launcher.py:3: SettingWithCopyWarning: \n",
      "A value is trying to be set on a copy of a slice from a DataFrame\n",
      "\n",
      "See the caveats in the documentation: http://pandas.pydata.org/pandas-docs/stable/indexing.html#indexing-view-versus-copy\n",
      "  This is separate from the ipykernel package so we can avoid doing imports until\n",
      "/anaconda3/lib/python3.6/site-packages/ipykernel_launcher.py:4: SettingWithCopyWarning: \n",
      "A value is trying to be set on a copy of a slice from a DataFrame\n",
      "\n",
      "See the caveats in the documentation: http://pandas.pydata.org/pandas-docs/stable/indexing.html#indexing-view-versus-copy\n",
      "  after removing the cwd from sys.path.\n",
      "/anaconda3/lib/python3.6/site-packages/ipykernel_launcher.py:5: SettingWithCopyWarning: \n",
      "A value is trying to be set on a copy of a slice from a DataFrame\n",
      "\n",
      "See the caveats in the documentation: http://pandas.pydata.org/pandas-docs/stable/indexing.html#indexing-view-versus-copy\n",
      "  \"\"\"\n"
     ]
    }
   ],
   "source": [
    "##change GREQ data \n",
    "quant_cleanGRE.GREQ[quant_cleanGRE.GREQ==800] = 166\n",
    "quant_cleanGRE.GREQ[quant_cleanGRE.GREQ==680] = 153\n",
    "quant_cleanGRE.GREQ[quant_cleanGRE.GREQ==780] = 163\n",
    "quant_cleanGRE.GREQ[quant_cleanGRE.GREQ==1581] = 158\n",
    "\n",
    "#print(quant_cleanGRE[(quant_cleanGRE['GREQ']>170)])"
   ]
  },
  {
   "cell_type": "code",
   "execution_count": 8,
   "metadata": {},
   "outputs": [
    {
     "name": "stderr",
     "output_type": "stream",
     "text": [
      "/anaconda3/lib/python3.6/site-packages/ipykernel_launcher.py:5: SettingWithCopyWarning: \n",
      "A value is trying to be set on a copy of a slice from a DataFrame\n",
      "\n",
      "See the caveats in the documentation: http://pandas.pydata.org/pandas-docs/stable/indexing.html#indexing-view-versus-copy\n",
      "  \"\"\"\n",
      "/anaconda3/lib/python3.6/site-packages/ipykernel_launcher.py:6: SettingWithCopyWarning: \n",
      "A value is trying to be set on a copy of a slice from a DataFrame\n",
      "\n",
      "See the caveats in the documentation: http://pandas.pydata.org/pandas-docs/stable/indexing.html#indexing-view-versus-copy\n",
      "  \n",
      "/anaconda3/lib/python3.6/site-packages/ipykernel_launcher.py:7: SettingWithCopyWarning: \n",
      "A value is trying to be set on a copy of a slice from a DataFrame\n",
      "\n",
      "See the caveats in the documentation: http://pandas.pydata.org/pandas-docs/stable/indexing.html#indexing-view-versus-copy\n",
      "  import sys\n",
      "/anaconda3/lib/python3.6/site-packages/ipykernel_launcher.py:8: SettingWithCopyWarning: \n",
      "A value is trying to be set on a copy of a slice from a DataFrame\n",
      "\n",
      "See the caveats in the documentation: http://pandas.pydata.org/pandas-docs/stable/indexing.html#indexing-view-versus-copy\n",
      "  \n",
      "/anaconda3/lib/python3.6/site-packages/ipykernel_launcher.py:9: SettingWithCopyWarning: \n",
      "A value is trying to be set on a copy of a slice from a DataFrame\n",
      "\n",
      "See the caveats in the documentation: http://pandas.pydata.org/pandas-docs/stable/indexing.html#indexing-view-versus-copy\n",
      "  if __name__ == '__main__':\n"
     ]
    }
   ],
   "source": [
    "#print(quant_cleanGRE[(quant_cleanGRE['GREV']>170)])\n",
    "\n",
    "##change GREV data\n",
    "quant_cleanGRE.GREV[(quant_cleanGRE.GREV==800)|(quant_cleanGRE.GREV>=760)] = 170\n",
    "quant_cleanGRE.GREV[quant_cleanGRE.GREV==700] = 166\n",
    "quant_cleanGRE.GREV[quant_cleanGRE.GREV==650] = 164\n",
    "quant_cleanGRE.GREV[quant_cleanGRE.GREV==620] = 161\n",
    "quant_cleanGRE.GREV[quant_cleanGRE.GREV==550] = 156\n",
    "quant_cleanGRE.GREV[quant_cleanGRE.GREV==460] = 151\n",
    "\n",
    "\n",
    "#print(quant_cleanGRE[(quant_cleanGRE['GREV']>170)])\n"
   ]
  },
  {
   "cell_type": "code",
   "execution_count": 9,
   "metadata": {},
   "outputs": [],
   "source": [
    "# print(quant_cleanGRE[\"GREV\"].describe())\n",
    "# print(quant_cleanGRE[\"GREAWA\"].describe())\n",
    "# print(quant_cleanGRE[\"GREQ\"].describe())\n"
   ]
  },
  {
   "cell_type": "code",
   "execution_count": 10,
   "metadata": {},
   "outputs": [],
   "source": [
    "#print(quant_cleanGRE)\n",
    "#quant_cleanGRE.index = pd.to_datetime(quant_cleanGRE.index)\n",
    "#quant_cleanGRE.index[0]\n",
    "# quant_cleanGRE['date'] = pd.to_datetime(quant_no_na['date'])\n",
    "# quant_cleanGRE.set_index(\"date\", inplace=True)\n",
    "# year=quant_cleanGRE[\"2018\"]\n",
    "# print(year)"
   ]
  },
  {
   "cell_type": "code",
   "execution_count": 11,
   "metadata": {},
   "outputs": [],
   "source": [
    "# TOTAL=quant_cleanGRE['Status'].count()\n",
    "# TOTAL\n",
    "\n",
    "\n",
    "# num=len(quant_cleanGRE[quant_cleanGRE['title'].str.contains(\"CMU\")])\n",
    "# num"
   ]
  },
  {
   "cell_type": "code",
   "execution_count": 12,
   "metadata": {},
   "outputs": [],
   "source": [
    "#print(quant_cleanGRE.truncate(before='2017-01-01'))\n",
    "#quant_cleanGRE\n",
    "#print(quant_cleanGRE[(quant_cleanGRE['date']>='2011-01-01') & (quant_cleanGRE['date']<=\"((2011-01-01)+timedelta(365))\")])\n",
    "#print(quant_cleanGRE['2011-01-01':'2011-12-31'])\n",
    "# print(a[\"GREQ\"].describe())\n",
    "# (df['2013-11-06':'2013-11-06'])\n",
    "#print(quant_cleanGRE['2013'])\n",
    "#print(quant_cleanGRE.to_period('A').head())\n",
    "# quant_cleanGRE"
   ]
  },
  {
   "cell_type": "code",
   "execution_count": 13,
   "metadata": {},
   "outputs": [],
   "source": [
    "# stanford=(quant_cleanGRE[quant_cleanGRE['title'].str.contains('Stanford')])\n",
    "# print(stanford[\"GREQ\"].describe())\n",
    "# ###################################\n",
    "# stanford_info=(quant_cleanGRE[quant_cleanGRE['title'].str.contains('Stanford')])\n",
    "# stanford_time=stanford_info.truncate(before='2017-01-01')\n",
    "quant_cleanGRE['date'] = pd.to_datetime(quant_cleanGRE['date'])   \n",
    "# quant_cleanGRE"
   ]
  },
  {
   "cell_type": "code",
   "execution_count": 14,
   "metadata": {},
   "outputs": [
    {
     "name": "stderr",
     "output_type": "stream",
     "text": [
      "/anaconda3/lib/python3.6/site-packages/pandas/core/indexing.py:189: SettingWithCopyWarning: \n",
      "A value is trying to be set on a copy of a slice from a DataFrame\n",
      "\n",
      "See the caveats in the documentation: http://pandas.pydata.org/pandas-docs/stable/indexing.html#indexing-view-versus-copy\n",
      "  self._setitem_with_indexer(indexer, value)\n"
     ]
    }
   ],
   "source": [
    "#for origpa in pd.read_csv('score.csv')['GPA']:\n",
    "a = quant_cleanGRE.index   \n",
    "for i in range(len(a)):\n",
    "    origpa = quant_cleanGRE[\"GPA\"].iloc[i]\n",
    "    if str(origpa).endswith('/3.8'):\n",
    "        quant_cleanGRE[\"GPA\"].iloc[i]=float(str(origpa)[:len(str(origpa))-4])/0.95\n",
    "    \n",
    "        \n",
    "        \n",
    "    elif str(origpa).endswith('/4'):\n",
    "        quant_cleanGRE[\"GPA\"].iloc[i]=float(str(origpa)[:len(str(origpa))-2])\n",
    "    elif str(origpa).endswith('/4.0'):\n",
    "        quant_cleanGRE[\"GPA\"].iloc[i]=float(str(origpa)[:len(str(origpa))-4])\n",
    "    elif str(origpa).endswith('/4.3'):\n",
    "        quant_cleanGRE[\"GPA\"].iloc[i]=float(str(origpa)[:len(str(origpa))-4])/1.075\n",
    "    elif str(origpa).endswith('/5'):\n",
    "        quant_cleanGRE[\"GPA\"].iloc[i]=float(str(origpa)[:len(str(origpa))-2])/1.25\n",
    "    elif str(origpa).endswith('/5.0'):\n",
    "        quant_cleanGRE[\"GPA\"].iloc[i]=float(str(origpa)[:len(str(origpa))-4])/1.25\n",
    "    elif str(origpa).endswith('/5.00'):\n",
    "        quant_cleanGRE[\"GPA\"].iloc[i]=float(str(origpa)[:len(str(origpa))-5])/1.25\n",
    "    elif str(origpa).endswith('/7'):\n",
    "        quant_cleanGRE[\"GPA\"].iloc[i]=float(str(origpa)[:len(str(origpa))-2])/1.75\n",
    "    elif str(origpa).endswith('/10'):\n",
    "        if len(origpa)>10:\n",
    "            quant_cleanGRE[\"GPA\"].iloc[i]=float(origpa[:3])\n",
    "        else:\n",
    "            quant_cleanGRE[\"GPA\"].iloc[i]=float(str(origpa)[:len(str(origpa))-3])/2.5\n",
    "    elif str(origpa).endswith('/10.0'):\n",
    "        quant_cleanGRE[\"GPA\"].iloc[i]=float(str(origpa)[:len(str(origpa))-5])/3\n",
    "    elif str(origpa).endswith('/12'):\n",
    "        quant_cleanGRE[\"GPA\"].iloc[i]=float(str(origpa)[:len(str(origpa))-3])/3\n",
    "    elif str(origpa).endswith('/20'):\n",
    "        quant_cleanGRE[\"GPA\"].iloc[i]=float(str(origpa)[:len(str(origpa))-3])/5\n",
    "    elif str(origpa).endswith('/100'):\n",
    "        quant_cleanGRE[\"GPA\"].iloc[i]=float(str(origpa)[:len(str(origpa))-4])/25\n",
    "    elif str(origpa).endswith('/ 100'):\n",
    "        quant_cleanGRE[\"GPA\"].iloc[i]=float(str(origpa)[:len(str(origpa))-6])/25\n",
    "    elif str(origpa).endswith('/110'):\n",
    "        quant_cleanGRE[\"GPA\"].iloc[i]=float(str(origpa)[:len(str(origpa))-4])/27.5\n",
    "    elif str(origpa).endswith('/120'):\n",
    "        quant_cleanGRE[\"GPA\"].iloc[i]=float(str(origpa)[:len(str(origpa))-4])/30\n",
    "    elif '2:01:00' in str(origpa):\n",
    "        quant_cleanGRE[\"GPA\"].iloc[i]='NA'\n",
    "    elif 'Mediocre' in str(origpa):\n",
    "        quant_cleanGRE[\"GPA\"].iloc[i]='NA'\n",
    "    elif str(origpa).startswith('201'):\n",
    "        quant_cleanGRE[\"GPA\"].iloc[i]='NA' \n",
    "    elif '?' in str(origpa):\n",
    "        quant_cleanGRE[\"GPA\"].iloc[i]='NA' \n",
    "    elif '-' in str(origpa):\n",
    "        quant_cleanGRE[\"GPA\"].iloc[i]='NA'\n",
    "    elif str(origpa).startswith('.'):\n",
    "        quant_cleanGRE[\"GPA\"].iloc[i]='NA'\n",
    "    elif 'n/a' in str(origpa):\n",
    "        quant_cleanGRE[\"GPA\"].iloc[i]='NA'\n",
    "    elif 'na' in str(origpa):\n",
    "        quant_cleanGRE[\"GPA\"].iloc[i]='NA'\n",
    "    elif 'Na' in str(origpa):\n",
    "        quant_cleanGRE[\"GPA\"].iloc[i]='NA'\n",
    "    elif 'N.A.' in str(origpa):\n",
    "        quant_cleanGRE[\"GPA\"].iloc[i]='NA'\n",
    "    elif 'NA' in str(origpa):\n",
    "        quant_cleanGRE[\"GPA\"].iloc[i]='NA'\n",
    "    elif 'N/A' in str(origpa):\n",
    "        quant_cleanGRE[\"GPA\"].iloc[i]='NA'\n",
    "    elif 'no' in str(origpa):\n",
    "        quant_cleanGRE[\"GPA\"].iloc[i]='NA'\n",
    "    elif '--' in str(origpa):\n",
    "        quant_cleanGRE[\"GPA\"].iloc[i]='NA'\n",
    "    elif 'n.a' in str(origpa):\n",
    "        quant_cleanGRE[\"GPA\"].iloc[i]='NA'\n",
    "    elif 'Hon' in str(origpa):\n",
    "        quant_cleanGRE[\"GPA\"].iloc[i]='NA'\n",
    "    elif 'Cla' in str(origpa):\n",
    "        quant_cleanGRE[\"GPA\"].iloc[i]='NA'\n",
    "    elif 'cla' in str(origpa):\n",
    "        quant_cleanGRE[\"GPA\"].iloc[i]='NA'\n",
    "    elif 'first' in str(origpa):\n",
    "        quant_cleanGRE[\"GPA\"].iloc[i]='NA'\n",
    "    elif 'Upper' in str(origpa):\n",
    "        quant_cleanGRE[\"GPA\"].iloc[i]='NA'\n",
    "    elif 'n.a' in str(origpa):\n",
    "        quant_cleanGRE[\"GPA\"].iloc[i]='NA'\n",
    "    elif '(UK)' in str(origpa):\n",
    "        quant_cleanGRE[\"GPA\"].iloc[i]='NA'\n",
    "    elif '1st' in str(origpa):\n",
    "        quant_cleanGRE[\"GPA\"].iloc[i]='NA'\n",
    "    elif 'No GPA' in str(origpa):\n",
    "        quant_cleanGRE[\"GPA\"].iloc[i]='NA'\n",
    "    elif origpa == '':\n",
    "        quant_cleanGRE[\"GPA\"].iloc[i]='NA'\n",
    "\n",
    "    elif '%' in str(origpa):\n",
    "        quant_cleanGRE[\"GPA\"].iloc[i]=float(str(origpa)[:len(str(origpa))-1])/25\n",
    "    elif 'WES' in str(origpa):\n",
    "        quant_cleanGRE[\"GPA\"].iloc[i]=float(str(origpa)[:4])\n",
    "    elif 'wes' in str(origpa):\n",
    "        quant_cleanGRE[\"GPA\"].iloc[i]=float(str(origpa)[:4])\n",
    "    elif 'WUS' in str(origpa):\n",
    "        quant_cleanGRE[\"GPA\"].iloc[i]=float(str(origpa)[:3])\n",
    "    elif '(core ' in str(origpa):\n",
    "        quant_cleanGRE[\"GPA\"].iloc[i]=float(str(origpa)[:4])\n",
    "    elif ',' in str(origpa):\n",
    "        quant_cleanGRE[\"GPA\"].iloc[i]=float(str(origpa).replace(',', '.'))\n",
    "    elif '+' in str(origpa):\n",
    "        quant_cleanGRE[\"GPA\"].iloc[i]=float(origpa[:3])\n",
    "    elif 'PhD' in str(origpa):\n",
    "        quant_cleanGRE[\"GPA\"].iloc[i]=float(origpa[5:8])\n",
    "    elif 'HK' in str(origpa):\n",
    "        new_value=float(origpa[:4])\n",
    "        quant_cleanGRE[\"GPA\"].iloc[i]=new_value * 0.93\n",
    "    elif '(8.03)' in str(origpa):\n",
    "        quant_cleanGRE[\"GPA\"].iloc[i]=float(origpa[:3])\n",
    "    elif '(8.0/10)' in str(origpa):\n",
    "        quant_cleanGRE[\"GPA\"].iloc[i]=float(origpa[:4])\n",
    "    elif 'German' in str(origpa):\n",
    "        new_value=float(origpa[:4])\n",
    "        quant_cleanGRE[\"GPA\"].iloc[i]=5-new_value\n",
    "    elif '6/9' in str(origpa):\n",
    "        quant_cleanGRE[\"GPA\"].iloc[i]=2.7\n",
    "    elif '[' in str(origpa):\n",
    "        quant_cleanGRE[\"GPA\"].iloc[i]=\"NA\"\n",
    "    elif '~' in str(origpa):\n",
    "        quant_cleanGRE[\"GPA\"].iloc[i]=\"NA\"   \n",
    "    elif '2:1' in str(origpa):\n",
    "        quant_cleanGRE[\"GPA\"].iloc[i]=\"NA\"  \n",
    "    elif '2:2' in str(origpa):\n",
    "        quant_cleanGRE[\"GPA\"].iloc[i]=\"NA\"  \n",
    "    elif float(str(origpa))>10:\n",
    "        quant_cleanGRE[\"GPA\"].iloc[i]=float(str(origpa))/25\n",
    "    elif float(str(origpa))>4 and float(str(origpa))<=10:\n",
    "        quant_cleanGRE[\"GPA\"].iloc[i]=float(str(origpa))/2.5\n",
    "    else:\n",
    "        quant_cleanGRE[\"GPA\"].iloc[i]=origpa"
   ]
  },
  {
   "cell_type": "code",
   "execution_count": 23,
   "metadata": {},
   "outputs": [
    {
     "data": {
      "text/plain": [
       "title             object\n",
       "date      datetime64[ns]\n",
       "Type              object\n",
       "GPA              float64\n",
       "GREQ               int64\n",
       "GREV               int64\n",
       "GREAWA           float64\n",
       "Status            object\n",
       "dtype: object"
      ]
     },
     "execution_count": 23,
     "metadata": {},
     "output_type": "execute_result"
    }
   ],
   "source": [
    "quant_cleanGRE.GPA[quant_cleanGRE.GPA=='NA']=np.nan\n",
    "# quant_cleanGRE=quant_cleanGRE.astype({'GPA': float})\n",
    "quant_cleanGRE=quant_cleanGRE.astype({'GPA': float})\n",
    "# quant_cleanGRE.dtypes\n"
   ]
  },
  {
   "cell_type": "code",
   "execution_count": 24,
   "metadata": {},
   "outputs": [],
   "source": [
    "quant_cleanGRE.to_csv('cleandata.csv')"
   ]
  },
  {
   "cell_type": "code",
   "execution_count": 88,
   "metadata": {},
   "outputs": [],
   "source": [
    "### to create a dataframe to store the accepted rate\n",
    "Rate=pd.DataFrame(columns=['title','2009','2010','2011','2012','2013','2014','2015','2016','2017','2018'])\n",
    "df=quant_cleanGRE.set_index(\"date\", inplace=False)\n",
    "lis=np.unique(quant_cleanGRE['title'])"
   ]
  },
  {
   "cell_type": "code",
   "execution_count": 89,
   "metadata": {},
   "outputs": [],
   "source": [
    "row=0\n",
    "for name in lis:\n",
    "    values=[name]\n",
    "    for i in range(2009,2019):\n",
    "        #year=quant_cleanGRE[str(i)]\n",
    "        \n",
    "        year=df[str(i)]\n",
    "        \n",
    "\n",
    "        school_info=year[year['title'].str.contains(name)]##all accpet in cmu in one specific year\n",
    "        quant_accept=school_info[school_info['Status'].str.contains(\"Accepted\")]\n",
    "    \n",
    "    \n",
    "   \n",
    "        total = len(school_info)\n",
    "        A=len(quant_accept)\n",
    "        if total==0:\n",
    "            rate=0\n",
    "        else:\n",
    "            rate=A/total\n",
    "        values.append(rate)\n",
    "        #print(lis)\n",
    "    Rate.loc[row]=values\n",
    "    row+=1\n",
    "    \n",
    "#     dictionary = dict(zip(keys, values))"
   ]
  },
  {
   "cell_type": "code",
   "execution_count": 90,
   "metadata": {},
   "outputs": [],
   "source": [
    "Rate=Rate.astype({'2009': float,'2010': float,'2011': float,'2014': float,'2015': float,'2017': float,'2018': float})\n",
    "Rate.set_index('title',inplace=True)\n",
    "Rate.to_csv('Rate.csv')"
   ]
  },
  {
   "cell_type": "code",
   "execution_count": 94,
   "metadata": {},
   "outputs": [],
   "source": [
    "### to create a dataframe to store the number of applicants\n",
    "Number=pd.DataFrame(columns=['title','2009','2010','2011','2012','2013','2014','2015','2016','2017','2018'])"
   ]
  },
  {
   "cell_type": "code",
   "execution_count": 95,
   "metadata": {},
   "outputs": [],
   "source": [
    "row=0\n",
    "for name in lis:\n",
    "    values=[name]\n",
    "    for i in range(2009,2019):\n",
    "        #year=quant_cleanGRE[str(i)]\n",
    "        \n",
    "        year=df[str(i)]\n",
    "        school_info=year[year['title'].str.contains(name)]##all accpet in cmu in one specific year\n",
    "        quant_accept=school_info[school_info['Status'].str.contains(\"Accepted\")]\n",
    "    \n",
    "    \n",
    "   \n",
    "        total = len(school_info)\n",
    "        values.append(total)\n",
    "        #print(lis)\n",
    "    Number.loc[row]=values\n",
    "    row+=1"
   ]
  },
  {
   "cell_type": "code",
   "execution_count": 98,
   "metadata": {},
   "outputs": [],
   "source": [
    "Number=Number.astype({'2009': float,'2010': float,'2011': float,'2014': float,'2015': float,'2017': float,'2018': float})\n",
    "Number.set_index('title',inplace=True)\n",
    "Number.to_csv('Number.csv')\n",
    "# Number.dtypes"
   ]
  }
 ],
 "metadata": {
  "kernelspec": {
   "display_name": "Python 3",
   "language": "python",
   "name": "python3"
  },
  "language_info": {
   "codemirror_mode": {
    "name": "ipython",
    "version": 3
   },
   "file_extension": ".py",
   "mimetype": "text/x-python",
   "name": "python",
   "nbconvert_exporter": "python",
   "pygments_lexer": "ipython3",
   "version": "3.6.5"
  }
 },
 "nbformat": 4,
 "nbformat_minor": 2
}
