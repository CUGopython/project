{
 "cells": [
  {
   "cell_type": "code",
   "execution_count": null,
   "metadata": {},
   "outputs": [],
   "source": [
    "elif '-' in str(origpa):\n",
    "        print('N/A')\n",
    "    elif str(origpa).startswith('.'):\n",
    "        print('N\\A')\n",
    "    elif 'n/a' in str(origpa):\n",
    "        print('N/A')\n",
    "    elif 'na' in str(origpa):\n",
    "        print('N/A')\n",
    "    elif 'Na' in str(origpa):\n",
    "        print('N/A')\n",
    "    elif 'N.A.' in str(origpa):\n",
    "        print('N/A')\n",
    "    elif 'NA' in str(origpa):\n",
    "        print('N/A')\n",
    "    elif 'N/A' in str(origpa):\n",
    "        print('N/A')\n",
    "    elif 'no' in str(origpa):\n",
    "        print('N/A')\n",
    "    elif '--' in str(origpa):\n",
    "        print('N/A')\n",
    "    elif 'n.a' in str(origpa):\n",
    "        print('N/A')"
   ]
  }
 ],
 "metadata": {
  "kernelspec": {
   "display_name": "Python 3",
   "language": "python",
   "name": "python3"
  },
  "language_info": {
   "codemirror_mode": {
    "name": "ipython",
    "version": 3
   },
   "file_extension": ".py",
   "mimetype": "text/x-python",
   "name": "python",
   "nbconvert_exporter": "python",
   "pygments_lexer": "ipython3",
   "version": "3.6.5"
  }
 },
 "nbformat": 4,
 "nbformat_minor": 2
}
