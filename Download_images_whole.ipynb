{
 "cells": [
  {
   "cell_type": "code",
   "execution_count": null,
   "metadata": {},
   "outputs": [],
   "source": [
    "from bs4 import BeautifulSoup\n",
    "import requests"
   ]
  },
  {
   "cell_type": "code",
   "execution_count": null,
   "metadata": {},
   "outputs": [],
   "source": [
    "import os"
   ]
  },
  {
   "cell_type": "code",
   "execution_count": null,
   "metadata": {},
   "outputs": [],
   "source": [
    "# get imgaes from URL = \"http://www.columbia.edu/help/slideshow/archive/index.html\" , save images to columbia folder\n",
    "os.makedirs('./img/columbia', exist_ok=True)\n",
    "url= \"http://www.columbia.edu/help/slideshow/archive/\"\n",
    "for i in range(1,14):\n",
    "    if i==1:\n",
    "        URL=url+'index.html'\n",
    "    else:\n",
    "        URL=url+'page%d'% i +'.html'\n",
    "    html = requests.get(URL).text\n",
    "    soup = BeautifulSoup(html, 'lxml')\n",
    "    img_ul = soup.find_all('div', {\"class\": \"thumb\"})\n",
    "    base_url='http://www.columbia.edu/'\n",
    "    for ul in img_ul:  \n",
    "        imgs = ul.find_all('img')\n",
    "        for img in imgs:\n",
    "            url2 = base_url+img['src'].strip('../')\n",
    "            r = requests.get(url2, stream=True)\n",
    "            image_name = url2.split('/')[-1]\n",
    "            with open('./img/columbia/%s' % image_name, 'wb') as f:\n",
    "                for chunk in r.iter_content(chunk_size=128):\n",
    "                    f.write(chunk)\n",
    "            print('Saved %s' % image_name)"
   ]
  },
  {
   "cell_type": "code",
   "execution_count": null,
   "metadata": {},
   "outputs": [],
   "source": [
    "# get imgaes from URL = \"https://www.shutterstock.com/\", save images to columbia2 folder\n",
    "os.makedirs('./img/columbia2/', exist_ok=True)\n",
    "urlpart1=\"https://www.shutterstock.com/search?\"\n",
    "\n",
    "urlpart2=\"&section=1&searchterm=columbia%20university&measurement=px&sort=popular&safe=true&search_source=base_search_form&language=zh&saveFiltersLink=true\"\n",
    "for i in range(1,15):\n",
    "    URL=urlpart1+ 'page=i' + urlpart2\n",
    "    html = requests.get(URL).text\n",
    "    soup = BeautifulSoup(html, 'lxml')\n",
    "    img_ul = soup.find_all('div', {\"class\": \"img-wrap\"})\n",
    "    base_url=''\n",
    "    for ul in img_ul:  \n",
    "        imgs = ul.find_all('img')\n",
    "        for img in imgs:\n",
    "            url2 = img['src'].strip('../')\n",
    "            r = requests.get(url2, stream=True)\n",
    "            image_name = str(i)+url2.split('/')[-1]\n",
    "            with open('./img/columbia2/%s' % image_name, 'wb') as f:\n",
    "                for chunk in r.iter_content(chunk_size=128):\n",
    "                    f.write(chunk)\n",
    "                    print('Saved %s' % image_name)"
   ]
  },
  {
   "cell_type": "code",
   "execution_count": null,
   "metadata": {},
   "outputs": [],
   "source": [
    "# get imgaes from URL = \"https://www.yelp.com/\", save images to columbia3 folder\n",
    "os.makedirs('./img/columbia3/', exist_ok=True)\n",
    "url1= \"https://www.yelp.com/biz_photos/columbia-university-new-york-49?start=\"\n",
    "for i in range(1,20):\n",
    "\n",
    "        #https://www.yelp.com/biz_photos/columbia-university-new-york-49?start=0\n",
    "    a=(30*i)-30    \n",
    "    URL=url1+'%d'% a\n",
    "        #https://www.yelp.com/biz_photos/columbia-university-new-york-49?start=540\n",
    "    html = requests.get(URL).text\n",
    "    soup = BeautifulSoup(html, 'lxml')\n",
    "    img_ul = soup.find_all('div', {\"class\": \"photo-box photo-box--interactive\"})\n",
    "        #base_url='http://www.columbia.edu/'\n",
    "    for ul in img_ul:  \n",
    "        imgs = ul.find_all('img')\n",
    "        for img in imgs:\n",
    "            url3 = img['src'].strip('../')\n",
    "            r = requests.get(url3, stream=True)\n",
    "            image_name = url3.split('/')[-2]\n",
    "            with open('./img/columbia3/%s' % image_name +'.jpg', 'wb') as f:\n",
    "                for chunk in r.iter_content(chunk_size=128):\n",
    "                    f.write(chunk)\n",
    "                print('Saved %s' % image_name)"
   ]
  }
 ],
 "metadata": {
  "kernelspec": {
   "display_name": "Python 3",
   "language": "python",
   "name": "python3"
  },
  "language_info": {
   "codemirror_mode": {
    "name": "ipython",
    "version": 3
   },
   "file_extension": ".py",
   "mimetype": "text/x-python",
   "name": "python",
   "nbconvert_exporter": "python",
   "pygments_lexer": "ipython3",
   "version": "3.6.5"
  }
 },
 "nbformat": 4,
 "nbformat_minor": 2
}
