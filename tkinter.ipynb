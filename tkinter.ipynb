{
 "cells": [
  {
   "cell_type": "code",
   "execution_count": 2,
   "metadata": {},
   "outputs": [],
   "source": [
    "import matplotlib\n",
    "matplotlib.use('TkAgg')\n",
    "\n",
    "import numpy as np\n",
    "from matplotlib.backends.backend_tkagg import FigureCanvasTkAgg, NavigationToolbar2TkAgg\n",
    "from matplotlib.figure import Figure\n",
    "\n",
    "import tkinter as tk\n",
    "from tkinter import ttk\n",
    "import pandas as pd\n",
    "\n",
    "title=pd.read_csv('/Users/liurui/Downloads/quantdata/title.csv')\n",
    "se=tuple(np.unique(title['title']))\n",
    "# print(len(se))"
   ]
  },
  {
   "cell_type": "code",
   "execution_count": 6,
   "metadata": {},
   "outputs": [],
   "source": [
    "def draw(*args):\n",
    "#     print(selected)\n",
    "\n",
    "    value=comboxlist.get()\n",
    "#     ax=ax_ref\n",
    "#     canvas=canvas_ref\n",
    "    string=\"\"\"\n",
    "     hello!\\n\n",
    "     this is test\\n\n",
    "     nice to meet you\"\"\"\n",
    "    ax1.clear()                 \n",
    "    ax2.clear()\n",
    "    var.set(string)\n",
    "    \n",
    "    canvas.draw()\n",
    "self=tk.Tk()\n",
    "fig = Figure(figsize=(5,4), dpi=100)\n",
    "ax1 = fig.add_subplot(111)\n",
    "ax2=ax1.twinx()\n",
    "comvalue=tk.StringVar()\n",
    "comboxlist=ttk.Combobox(self,textvariable=comvalue,state='readonly')\n",
    "comboxlist.pack(side=tk.TOP)\n",
    "comboxlist[\"values\"]=se\n",
    "comboxlist.current(2) \n",
    "canvas = FigureCanvasTkAgg(fig, master=self)\n",
    "canvas.get_tk_widget().pack(side=tk.TOP, fill=tk.BOTH, expand=1)\n",
    "canvas._tkcanvas.pack(side=tk.TOP, fill=tk.BOTH, expand=1)\n",
    "var=tk.StringVar()\n",
    "label=tk.Label(self,textvariable=var).pack(side=tk.BOTTOM)\n",
    "\n",
    "comboxlist.bind(\"<<ComboboxSelected>>\",draw) \n",
    "\n",
    "self.mainloop()"
   ]
  },
  {
   "cell_type": "code",
   "execution_count": null,
   "metadata": {},
   "outputs": [],
   "source": []
  },
  {
   "cell_type": "code",
   "execution_count": null,
   "metadata": {},
   "outputs": [],
   "source": []
  }
 ],
 "metadata": {
  "kernelspec": {
   "display_name": "Python 3",
   "language": "python",
   "name": "python3"
  },
  "language_info": {
   "codemirror_mode": {
    "name": "ipython",
    "version": 3
   },
   "file_extension": ".py",
   "mimetype": "text/x-python",
   "name": "python",
   "nbconvert_exporter": "python",
   "pygments_lexer": "ipython3",
   "version": "3.6.5"
  }
 },
 "nbformat": 4,
 "nbformat_minor": 2
}
