{
 "cells": [
  {
   "cell_type": "code",
   "execution_count": 1,
   "metadata": {},
   "outputs": [],
   "source": [
    "import matplotlib\n",
    "matplotlib.use('TkAgg')\n",
    "\n",
    "import numpy as np\n",
    "from matplotlib.backends.backend_tkagg import FigureCanvasTkAgg, NavigationToolbar2TkAgg\n",
    "from matplotlib.figure import Figure\n",
    "\n",
    "import tkinter as tk\n",
    "from tkinter import ttk"
   ]
  },
  {
   "cell_type": "code",
   "execution_count": null,
   "metadata": {},
   "outputs": [],
   "source": [
    "def draw(*args):\n",
    "#     print(selected)\n",
    "\n",
    "    value=comboxlist.get()\n",
    "#     ax=ax_ref\n",
    "#     canvas=canvas_ref\n",
    "    ax.clear()                 \n",
    "    if value=='1':\n",
    "        ax.scatter(2,3,s=4)\n",
    "    elif value=='2':\n",
    "        ax1.scatter(1,2,s=2)\n",
    "    elif value=='3':\n",
    "        ax1.scatter(3,2,s=5)\n",
    "    else:\n",
    "        ax1.scatter(4,5,s=2)\n",
    "    canvas.draw()\n",
    "self=tk.Tk()\n",
    "fig = Figure(figsize=(5,4), dpi=100)\n",
    "ax = fig.add_subplot(111)\n",
    "comvalue=tk.StringVar()\n",
    "comboxlist=ttk.Combobox(self,textvariable=comvalue,state='readonly') \n",
    "comboxlist.pack(side=tk.TOP)\n",
    "comboxlist[\"values\"]=('1','2','3','4')\n",
    "comboxlist.current(2)  \n",
    "canvas = FigureCanvasTkAgg(fig, master=self)\n",
    "canvas.get_tk_widget().pack(side=tk.TOP, fill=tk.BOTH, expand=1)\n",
    "canvas._tkcanvas.pack(side=tk.TOP, fill=tk.BOTH, expand=1)\n",
    "\n",
    "\n",
    "comboxlist.bind(\"<<ComboboxSelected>>\",draw)  \n",
    "\n",
    "self.mainloop()"
   ]
  },
  {
   "cell_type": "code",
   "execution_count": null,
   "metadata": {},
   "outputs": [],
   "source": []
  }
 ],
 "metadata": {
  "kernelspec": {
   "display_name": "Python 3",
   "language": "python",
   "name": "python3"
  },
  "language_info": {
   "codemirror_mode": {
    "name": "ipython",
    "version": 3
   },
   "file_extension": ".py",
   "mimetype": "text/x-python",
   "name": "python",
   "nbconvert_exporter": "python",
   "pygments_lexer": "ipython3",
   "version": "3.6.5"
  }
 },
 "nbformat": 4,
 "nbformat_minor": 2
}
