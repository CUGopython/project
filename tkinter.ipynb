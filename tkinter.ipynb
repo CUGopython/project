{
 "cells": [
  {
   "cell_type": "code",
   "execution_count": 2,
   "metadata": {},
   "outputs": [],
   "source": [
    "import matplotlib\n",
    "matplotlib.use('TkAgg')\n",
    "\n",
    "import numpy as np\n",
    "from matplotlib.backends.backend_tkagg import FigureCanvasTkAgg, NavigationToolbar2TkAgg\n",
    "from matplotlib.figure import Figure\n",
    "\n",
    "import tkinter as tk\n",
    "from tkinter import ttk\n",
    "import pandas as pd\n",
    "title=pd.read_csv('./title.csv')\n",
    "se=tuple(np.unique(title['title']))\n",
    "# print(len(se))"
   ]
  },
  {
   "cell_type": "code",
   "execution_count": null,
   "metadata": {},
   "outputs": [],
   "source": [
    "def draw(*args):\n",
    "#     print(selected)\n",
    "\n",
    "    value=comboxlist.get()\n",
    "#     ax=ax_ref\n",
    "#     canvas=canvas_ref\n",
    "    ax1.clear()                 \n",
    "    ax2.clear()\n",
    "    if value=='Baruch MFE':\n",
    "        x = np.arange(0.1, np.e, 0.01)\n",
    "        y1 = np.exp(-x)\n",
    "        y2 = np.log(x)\n",
    "        ax1.plot(x, y1)\n",
    "        ax2.plot(x,y2,'r')\n",
    "    elif value=='CGU MSFE':\n",
    "        ax1.scatter(1,2,s=2)\n",
    "    elif value=='CMU MSCF':\n",
    "        ax1.scatter(3,2,s=5)\n",
    "    else:\n",
    "        ax1.scatter(4,5,s=2)\n",
    "    canvas.draw()\n",
    "self=tk.Tk()\n",
    "fig = Figure(figsize=(5,4), dpi=100)\n",
    "ax1 = fig.add_subplot(111)\n",
    "ax2=ax1.twinx()\n",
    "comvalue=tk.StringVar()\n",
    "comboxlist=ttk.Combobox(self,textvariable=comvalue,state='readonly')\n",
    "comboxlist.pack(side=tk.TOP)\n",
    "comboxlist[\"values\"]=se\n",
    "comboxlist.current(2) \n",
    "canvas = FigureCanvasTkAgg(fig, master=self)\n",
    "canvas.get_tk_widget().pack(side=tk.TOP, fill=tk.BOTH, expand=1)\n",
    "canvas._tkcanvas.pack(side=tk.TOP, fill=tk.BOTH, expand=1)\n",
    "\n",
    "\n",
    "comboxlist.bind(\"<<ComboboxSelected>>\",draw) \n",
    "\n",
    "self.mainloop()"
   ]
  },
  {
   "cell_type": "code",
   "execution_count": null,
   "metadata": {},
   "outputs": [],
   "source": []
  }
 ],
 "metadata": {
  "kernelspec": {
   "display_name": "Python 3",
   "language": "python",
   "name": "python3"
  },
  "language_info": {
   "codemirror_mode": {
    "name": "ipython",
    "version": 3
   },
   "file_extension": ".py",
   "mimetype": "text/x-python",
   "name": "python",
   "nbconvert_exporter": "python",
   "pygments_lexer": "ipython3",
   "version": "3.6.5"
  }
 },
 "nbformat": 4,
 "nbformat_minor": 2
}
