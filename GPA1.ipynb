{
 "cells": [
  {
   "cell_type": "code",
   "execution_count": null,
   "metadata": {},
   "outputs": [],
   "source": [
    "for origpa in df['GPA']:\n",
    "    if str(origpa).endswith('/3.8'):\n",
    "        gpa=float(str(origpa)[:len(str(origpa))-4])/0.95\n",
    "        print(gpa)\n",
    "    elif str(origpa).endswith('/4'):\n",
    "        gpa=float(str(origpa)[:len(str(origpa))-2])\n",
    "        print(gpa) \n",
    "    elif str(origpa).endswith('/4.0'):\n",
    "        gpa=float(str(origpa)[:len(str(origpa))-4])\n",
    "        print(gpa)\n",
    "    elif str(origpa).endswith('/4.3'):\n",
    "        gpa=float(str(origpa)[:len(str(origpa))-4])/1.075\n",
    "        print(gpa)\n",
    "    elif str(origpa).endswith('/5'):\n",
    "        gpa=float(str(origpa)[:len(str(origpa))-2])/1.25\n",
    "        print(gpa) \n",
    "    elif str(origpa).endswith('/5.0'):\n",
    "        gpa=float(str(origpa)[:len(str(origpa))-4])/1.25\n",
    "        print(gpa) \n",
    "    elif str(origpa).endswith('/5.00'):\n",
    "        gpa=float(str(origpa)[:len(str(origpa))-5])/1.25\n",
    "        print(gpa)\n",
    "    elif str(origpa).endswith('/7'):\n",
    "        gpa=float(str(origpa)[:len(str(origpa))-2])/1.75\n",
    "        print(gpa)\n",
    "    elif str(origpa).endswith('/10'):\n",
    "        if len(origpa)>10:\n",
    "            gpa=float(origpa[:3])\n",
    "        else:\n",
    "            gpa=float(str(origpa)[:len(str(origpa))-3])/2.5\n",
    "            print(gpa)"
   ]
  }
 ],
 "metadata": {
  "kernelspec": {
   "display_name": "Python 3",
   "language": "python",
   "name": "python3"
  },
  "language_info": {
   "codemirror_mode": {
    "name": "ipython",
    "version": 3
   },
   "file_extension": ".py",
   "mimetype": "text/x-python",
   "name": "python",
   "nbconvert_exporter": "python",
   "pygments_lexer": "ipython3",
   "version": "3.6.5"
  }
 },
 "nbformat": 4,
 "nbformat_minor": 2
}
