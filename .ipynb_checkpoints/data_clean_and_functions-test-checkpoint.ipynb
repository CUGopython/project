{
 "cells": [
  {
   "cell_type": "code",
   "execution_count": 1,
   "metadata": {},
   "outputs": [],
   "source": [
    "import pandas as pd\n",
    "import csv\n",
    "import datetime\n"
   ]
  },
  {
   "cell_type": "code",
   "execution_count": 3,
   "metadata": {},
   "outputs": [],
   "source": [
    "tag=['date','type','score','status']\n",
    " \n",
    "quant=pd.read_csv('title.csv')    \n",
    "#quant=pd.read_csv('/Users/siqi/Desktop/Tools/project/quantdata/title.csv')\n",
    "#/Users/siqi/Desktop/Tools/project/quantdata\n",
    "quant=quant.drop(list(quant)[0],axis=1)\n",
    "for i in tag:\n",
    "    data=pd.read_csv(i+'.csv')\n",
    "    #data=pd.read_csv('/Users/siqi/Desktop/Tools/project/quantdata/'+i+'.csv')\n",
    "    data=data.drop(columns=list(data)[0])\n",
    "    quant=quant.join(data)\n",
    "#quant.iloc[5500:6500]\n",
    "# date.set_index('Unnamed',inplace=True)"
   ]
  },
  {
   "cell_type": "code",
   "execution_count": 4,
   "metadata": {},
   "outputs": [],
   "source": [
    "#check data type of each column\n",
    "#quant.dtypes"
   ]
  },
  {
   "cell_type": "code",
   "execution_count": 5,
   "metadata": {},
   "outputs": [
    {
     "name": "stderr",
     "output_type": "stream",
     "text": [
      "/usr/local/lib/python3.6/site-packages/ipykernel_launcher.py:11: SettingWithCopyWarning: \n",
      "A value is trying to be set on a copy of a slice from a DataFrame\n",
      "\n",
      "See the caveats in the documentation: http://pandas.pydata.org/pandas-docs/stable/indexing.html#indexing-view-versus-copy\n",
      "  # This is added back by InteractiveShellApp.init_path()\n",
      "/usr/local/lib/python3.6/site-packages/ipykernel_launcher.py:12: SettingWithCopyWarning: \n",
      "A value is trying to be set on a copy of a slice from a DataFrame\n",
      "\n",
      "See the caveats in the documentation: http://pandas.pydata.org/pandas-docs/stable/indexing.html#indexing-view-versus-copy\n",
      "  if sys.path[0] == '':\n",
      "/usr/local/lib/python3.6/site-packages/ipykernel_launcher.py:13: SettingWithCopyWarning: \n",
      "A value is trying to be set on a copy of a slice from a DataFrame\n",
      "\n",
      "See the caveats in the documentation: http://pandas.pydata.org/pandas-docs/stable/indexing.html#indexing-view-versus-copy\n",
      "  del sys.path[0]\n"
     ]
    }
   ],
   "source": [
    "#remove rows which are NaN in GREQ, GREV or GREWA\n",
    "quant_no_na = quant.dropna()\n",
    "#Remove rows which contains -\n",
    "quant_no_na=quant_no_na[ ~ quant_no_na['GREAWA'].str.contains('-') ]\n",
    "quant_no_na=quant_no_na[ ~ quant_no_na['GREAWA'].str.contains('GMAT') ]\n",
    "\n",
    "#Remove typing errors\n",
    "#p=quant_no_na[quant_no_na['GREAWA'].str.contains('highest')]\n",
    "\n",
    "quant_no_na.GREAWA[quant_no_na['GREAWA']=='3,5']=\"3.5\"\n",
    "quant_no_na.GREAWA[quant_no_na['GREAWA']=='2.5(highest 3)']=\"2.5\"\n",
    "quant_no_na.GREAWA[quant_no_na['GREAWA']=='3.5 (highest 4)']=\"3.5\"\n",
    "quant_no_na.GREAWA[quant_no_na['GREAWA']=='3.0 (highest 3.5)']=\"3.5\"\n",
    "\n",
    "\n",
    "# quant_no_na = quant.dropna(subset=['GREQ', 'GREV','GREAWA'])\n",
    "# quant_no_na\n",
    "##check\n",
    "# A=quant_no_na.loc[quant_no_na['title'] == 'Toronto MathFin']\n",
    "# B=A.loc[quant_no_na['GPA'] == 3.62]\n",
    "# A.sort_values([\"GPA\"])\n"
   ]
  },
  {
   "cell_type": "code",
   "execution_count": 6,
   "metadata": {},
   "outputs": [],
   "source": [
    "#change data type of each column\n",
    "# quant_no_na['date'] = pd.to_datetime(quant_no_na['date'])\n",
    "# quant_no_na.set_index(\"date\", inplace=True)\n",
    "\n",
    "# quant_no_na.set_index(\"date\", inplace=True)\n",
    "# quant_no_na.index = pd.DatetimeIndex(quanr_.index)\n",
    "\n",
    "\n",
    "#convert GRE Scores to right data types\n",
    "quant_cleanGRE = quant_no_na.astype({\"GREQ\": int, \"GREV\": int, 'GREAWA': float})\n",
    "#quant_cleanGRE\n"
   ]
  },
  {
   "cell_type": "code",
   "execution_count": 7,
   "metadata": {},
   "outputs": [
    {
     "data": {
      "text/plain": [
       "title      object\n",
       "date       object\n",
       "Type       object\n",
       "GPA        object\n",
       "GREQ        int64\n",
       "GREV        int64\n",
       "GREAWA    float64\n",
       "Status     object\n",
       "dtype: object"
      ]
     },
     "execution_count": 7,
     "metadata": {},
     "output_type": "execute_result"
    }
   ],
   "source": [
    "quant_cleanGRE.dtypes\n",
    "##statistics of GRE scores\n",
    "# print(quant_cleanGRE[\"GREV\"].describe())\n",
    "# print(quant_cleanGRE[\"GREAWA\"].describe())\n",
    "# print(quant_cleanGRE[\"GREQ\"].describe())\n"
   ]
  },
  {
   "cell_type": "code",
   "execution_count": 8,
   "metadata": {},
   "outputs": [],
   "source": [
    "#print(quant_cleanGRE[quant_cleanGRE[\"GREAWA\"]>6])"
   ]
  },
  {
   "cell_type": "code",
   "execution_count": 9,
   "metadata": {},
   "outputs": [],
   "source": [
    "quant_cleanGRE=quant_cleanGRE[~(quant_cleanGRE['GREAWA']>6)]\n",
    "#quant_cleanGRE\n",
    "#print(quant_cleanGRE[(quant_cleanGRE['GREV']>170) | (quant_cleanGRE['GREQ']>170)])\n",
    "\n"
   ]
  },
  {
   "cell_type": "code",
   "execution_count": 10,
   "metadata": {},
   "outputs": [
    {
     "name": "stderr",
     "output_type": "stream",
     "text": [
      "/usr/local/lib/python3.6/site-packages/ipykernel_launcher.py:3: SettingWithCopyWarning: \n",
      "A value is trying to be set on a copy of a slice from a DataFrame\n",
      "\n",
      "See the caveats in the documentation: http://pandas.pydata.org/pandas-docs/stable/indexing.html#indexing-view-versus-copy\n",
      "  This is separate from the ipykernel package so we can avoid doing imports until\n",
      "/usr/local/lib/python3.6/site-packages/ipykernel_launcher.py:4: SettingWithCopyWarning: \n",
      "A value is trying to be set on a copy of a slice from a DataFrame\n",
      "\n",
      "See the caveats in the documentation: http://pandas.pydata.org/pandas-docs/stable/indexing.html#indexing-view-versus-copy\n",
      "  after removing the cwd from sys.path.\n",
      "/usr/local/lib/python3.6/site-packages/ipykernel_launcher.py:5: SettingWithCopyWarning: \n",
      "A value is trying to be set on a copy of a slice from a DataFrame\n",
      "\n",
      "See the caveats in the documentation: http://pandas.pydata.org/pandas-docs/stable/indexing.html#indexing-view-versus-copy\n",
      "  \"\"\"\n"
     ]
    }
   ],
   "source": [
    "##change GREQ data \n",
    "quant_cleanGRE.GREQ[quant_cleanGRE.GREQ==800] = 166\n",
    "quant_cleanGRE.GREQ[quant_cleanGRE.GREQ==680] = 153\n",
    "quant_cleanGRE.GREQ[quant_cleanGRE.GREQ==780] = 163\n",
    "quant_cleanGRE.GREQ[quant_cleanGRE.GREQ==1581] = 158\n",
    "\n",
    "#print(quant_cleanGRE[(quant_cleanGRE['GREQ']>170)])"
   ]
  },
  {
   "cell_type": "code",
   "execution_count": 11,
   "metadata": {},
   "outputs": [
    {
     "name": "stderr",
     "output_type": "stream",
     "text": [
      "/usr/local/lib/python3.6/site-packages/ipykernel_launcher.py:5: SettingWithCopyWarning: \n",
      "A value is trying to be set on a copy of a slice from a DataFrame\n",
      "\n",
      "See the caveats in the documentation: http://pandas.pydata.org/pandas-docs/stable/indexing.html#indexing-view-versus-copy\n",
      "  \"\"\"\n",
      "/usr/local/lib/python3.6/site-packages/ipykernel_launcher.py:6: SettingWithCopyWarning: \n",
      "A value is trying to be set on a copy of a slice from a DataFrame\n",
      "\n",
      "See the caveats in the documentation: http://pandas.pydata.org/pandas-docs/stable/indexing.html#indexing-view-versus-copy\n",
      "  \n",
      "/usr/local/lib/python3.6/site-packages/ipykernel_launcher.py:7: SettingWithCopyWarning: \n",
      "A value is trying to be set on a copy of a slice from a DataFrame\n",
      "\n",
      "See the caveats in the documentation: http://pandas.pydata.org/pandas-docs/stable/indexing.html#indexing-view-versus-copy\n",
      "  import sys\n",
      "/usr/local/lib/python3.6/site-packages/ipykernel_launcher.py:8: SettingWithCopyWarning: \n",
      "A value is trying to be set on a copy of a slice from a DataFrame\n",
      "\n",
      "See the caveats in the documentation: http://pandas.pydata.org/pandas-docs/stable/indexing.html#indexing-view-versus-copy\n",
      "  \n",
      "/usr/local/lib/python3.6/site-packages/ipykernel_launcher.py:9: SettingWithCopyWarning: \n",
      "A value is trying to be set on a copy of a slice from a DataFrame\n",
      "\n",
      "See the caveats in the documentation: http://pandas.pydata.org/pandas-docs/stable/indexing.html#indexing-view-versus-copy\n",
      "  if __name__ == '__main__':\n"
     ]
    }
   ],
   "source": [
    "#print(quant_cleanGRE[(quant_cleanGRE['GREV']>170)])\n",
    "\n",
    "##change GREV data\n",
    "quant_cleanGRE.GREV[(quant_cleanGRE.GREV==800)|(quant_cleanGRE.GREV>=760)] = 170\n",
    "quant_cleanGRE.GREV[quant_cleanGRE.GREV==700] = 166\n",
    "quant_cleanGRE.GREV[quant_cleanGRE.GREV==650] = 164\n",
    "quant_cleanGRE.GREV[quant_cleanGRE.GREV==620] = 161\n",
    "quant_cleanGRE.GREV[quant_cleanGRE.GREV==550] = 156\n",
    "quant_cleanGRE.GREV[quant_cleanGRE.GREV==460] = 151\n",
    "\n",
    "\n",
    "#print(quant_cleanGRE[(quant_cleanGRE['GREV']>170)])\n"
   ]
  },
  {
   "cell_type": "code",
   "execution_count": 12,
   "metadata": {},
   "outputs": [],
   "source": [
    "# print(quant_cleanGRE[\"GREV\"].describe())\n",
    "# print(quant_cleanGRE[\"GREAWA\"].describe())\n",
    "# print(quant_cleanGRE[\"GREQ\"].describe())\n"
   ]
  },
  {
   "cell_type": "code",
   "execution_count": 13,
   "metadata": {},
   "outputs": [],
   "source": [
    "#print(quant_cleanGRE)\n",
    "#quant_cleanGRE.index = pd.to_datetime(quant_cleanGRE.index)\n",
    "#quant_cleanGRE.index[0]\n",
    "# quant_cleanGRE['date'] = pd.to_datetime(quant_no_na['date'])\n",
    "# quant_cleanGRE.set_index(\"date\", inplace=True)\n",
    "# year=quant_cleanGRE[\"2018\"]\n",
    "# print(year)"
   ]
  },
  {
   "cell_type": "code",
   "execution_count": 14,
   "metadata": {},
   "outputs": [],
   "source": [
    "# TOTAL=quant_cleanGRE['Status'].count()\n",
    "# TOTAL\n",
    "\n",
    "\n",
    "# num=len(quant_cleanGRE[quant_cleanGRE['title'].str.contains(\"CMU\")])\n",
    "# num"
   ]
  },
  {
   "cell_type": "code",
   "execution_count": 15,
   "metadata": {},
   "outputs": [],
   "source": [
    "#print(quant_cleanGRE.truncate(before='2017-01-01'))\n",
    "#quant_cleanGRE\n",
    "#print(quant_cleanGRE[(quant_cleanGRE['date']>='2011-01-01') & (quant_cleanGRE['date']<=\"((2011-01-01)+timedelta(365))\")])\n",
    "#print(quant_cleanGRE['2011-01-01':'2011-12-31'])\n",
    "# print(a[\"GREQ\"].describe())\n",
    "# (df['2013-11-06':'2013-11-06'])\n",
    "#print(quant_cleanGRE['2013'])\n",
    "#print(quant_cleanGRE.to_period('A').head())"
   ]
  },
  {
   "cell_type": "code",
   "execution_count": 16,
   "metadata": {},
   "outputs": [],
   "source": [
    "# stanford=(quant_cleanGRE[quant_cleanGRE['title'].str.contains('Stanford')])\n",
    "# print(stanford[\"GREQ\"].describe())\n",
    "# ###################################\n",
    "# stanford_info=(quant_cleanGRE[quant_cleanGRE['title'].str.contains('Stanford')])\n",
    "# stanford_time=stanford_info.truncate(before='2017-01-01')\n",
    "          "
   ]
  },
  {
   "cell_type": "code",
   "execution_count": 17,
   "metadata": {},
   "outputs": [],
   "source": [
    "def GRE_func (school):\n",
    "    quant_accept=quant_cleanGRE[quant_cleanGRE['Status'].str.contains(\"Accepted\")]\n",
    "    school_info=quant_accept[quant_accept['title'].str.contains(school)]\n",
    "    \n",
    "    result=(int((school_info['GREQ'].mean())),int((school_info['GREV'].mean())),int((school_info['GREAWA'].mean())))\n",
    "    \n",
    "    return result"
   ]
  },
  {
   "cell_type": "code",
   "execution_count": 18,
   "metadata": {},
   "outputs": [
    {
     "data": {
      "text/plain": [
       "(167, 161, 3)"
      ]
     },
     "execution_count": 18,
     "metadata": {},
     "output_type": "execute_result"
    }
   ],
   "source": [
    "##test return Q V AWA in order\n",
    "GRE_func('Stanford')\n"
   ]
  },
  {
   "cell_type": "code",
   "execution_count": 19,
   "metadata": {},
   "outputs": [],
   "source": [
    "# df = quant_cleanGRE.loc[quant_cleanGRE['Status']=='Accepted']\n",
    "# df.groupby('title').count()\n",
    "\n",
    "# quant_accept=quant_cleanGRE[quant_cleanGRE['Status'].str.contains(\"Accepted\")]\n",
    "# school_info=quant_accept[quant_accept['title'].str.contains('CMU')]\n",
    "\n",
    "\n",
    "# TOTAL=school_info['Status'].count()\n",
    "# TOTAL\n",
    "#A=school_info[['Status']==\"Accepted\"].count()\n",
    "#A_rate=A/TOTAL\n",
    "\n",
    "\n",
    "#print(quant_cleanGRE[quant_cleanGRE['Status'].str.contains(\"Accepted\")&(quant_cleanGRE['date']>='2011-01-01')])\n"
   ]
  },
  {
   "cell_type": "code",
   "execution_count": 26,
   "metadata": {},
   "outputs": [],
   "source": [
    "# quant_cleanGRE['date'] = pd.to_datetime(quant_no_na['date'])\n",
    "df=quant_cleanGRE.set_index(\"date\", inplace=False)\n"
   ]
  },
  {
   "cell_type": "code",
   "execution_count": 27,
   "metadata": {},
   "outputs": [],
   "source": [
    "def rate_func (school):\n",
    "    quant_cleanGRE['date'] = pd.to_datetime(quant_no_na['date'])\n",
    "    quant_cleanGRE.set_index(\"date\", inplace=False)\n",
    "    values=[]\n",
    "    keys=['2009','2010','2011','2012','2013','2014','2015','2016','2017','2018']\n",
    "    for i in range(2009,2019):\n",
    "        #year=quant_cleanGRE[str(i)]\n",
    "        year=df[str(i)]\n",
    "        \n",
    "\n",
    "        school_info=year[year['title'].str.contains(school)]##all accpet in cmu in one specific year\n",
    "        quant_accept=school_info[school_info['Status'].str.contains(\"Accepted\")]\n",
    "    \n",
    "    \n",
    "   \n",
    "        total = len(school_info)\n",
    "        A=len(quant_accept)\n",
    "        rate=A/total\n",
    "        \n",
    "        ##print(A_rate)\n",
    "   \n",
    "        rate='{0:1.2f}%'.format(rate*100)\n",
    "        \n",
    "        values.append(rate)\n",
    "        #print(lis)\n",
    "    \n",
    "    \n",
    "    dictionary = dict(zip(keys, values))\n",
    "    return dictionary"
   ]
  },
  {
   "cell_type": "code",
   "execution_count": 28,
   "metadata": {},
   "outputs": [
    {
     "data": {
      "text/plain": [
       "{'2009': '100.00%',\n",
       " '2010': '63.64%',\n",
       " '2011': '51.02%',\n",
       " '2012': '52.24%',\n",
       " '2013': '51.67%',\n",
       " '2014': '45.76%',\n",
       " '2015': '57.53%',\n",
       " '2016': '52.08%',\n",
       " '2017': '46.15%',\n",
       " '2018': '23.53%'}"
      ]
     },
     "execution_count": 28,
     "metadata": {},
     "output_type": "execute_result"
    }
   ],
   "source": [
    "rate_func (\"CMU\")"
   ]
  },
  {
   "cell_type": "code",
   "execution_count": 29,
   "metadata": {},
   "outputs": [
    {
     "name": "stdout",
     "output_type": "stream",
     "text": [
      "159\n",
      "0.44654088050314467\n"
     ]
    }
   ],
   "source": [
    "##test\n",
    "year_accept=quant_cleanGRE[quant_cleanGRE['Status'].str.contains(\"Accepted\")&(quant_cleanGRE['date']>='2015-01-01') \n",
    "                    & (quant_cleanGRE['date']<='2015-12-31') ]\n",
    "school_year_accept=year_accept[year_accept['title'].str.contains(\"Columbia\")]\n",
    "\n",
    "school_year_total=quant_cleanGRE[quant_cleanGRE['title'].str.contains(\"Columbia\")&(quant_cleanGRE['date']>='2015-01-01') \n",
    "                    & (quant_cleanGRE['date']<='2015-12-31') ]\n",
    "\n",
    "t=len(school_year_total)\n",
    "a=len(school_year_accept)\n",
    "print(t)\n",
    "print(a/t)\n"
   ]
  },
  {
   "cell_type": "code",
   "execution_count": 30,
   "metadata": {},
   "outputs": [
    {
     "data": {
      "text/plain": [
       "{'2009': '75.00%',\n",
       " '2010': '54.76%',\n",
       " '2011': '47.66%',\n",
       " '2012': '54.13%',\n",
       " '2013': '57.78%',\n",
       " '2014': '45.24%',\n",
       " '2015': '44.65%',\n",
       " '2016': '55.80%',\n",
       " '2017': '49.03%',\n",
       " '2018': '44.71%'}"
      ]
     },
     "execution_count": 30,
     "metadata": {},
     "output_type": "execute_result"
    }
   ],
   "source": [
    "rate_func (\"Columbia\")"
   ]
  },
  {
   "cell_type": "code",
   "execution_count": 31,
   "metadata": {},
   "outputs": [],
   "source": [
    "def apply_func (school):\n",
    "    quant_cleanGRE['date'] = pd.to_datetime(quant_no_na['date'])\n",
    "    quant_cleanGRE.set_index(\"date\", inplace=False)\n",
    "    values=[]\n",
    "    keys=['2009','2010','2011','2012','2013','2014','2015','2016','2017','2018']\n",
    "    for i in range(2009,2019):\n",
    "        #year=quant_cleanGRE[str(i)]\n",
    "        year=df[str(i)]\n",
    "        #quant_accept=year[year['Status'].str.contains(\"Accepted\")]\n",
    "    \n",
    "        #school_info=quant_accept[quant_accept['title'].str.contains(school)]##all accpet in cmu in one specific year\n",
    "    \n",
    "    \n",
    "   \n",
    "        total = len(year[year['title'].str.contains(school)])\n",
    "        \n",
    "    \n",
    "        #A=len(school_info)\n",
    "        #rate=A/TOTAL\n",
    "        \n",
    "        ##print(A_rate)\n",
    "   \n",
    "        #A_rate=('{0:1.2f}%'.format(rate*100))\n",
    "        \n",
    "        values.append(total)\n",
    "        #print(lis)\n",
    "    \n",
    "    \n",
    "    dictionary = dict(zip(keys, values))\n",
    "    return dictionary"
   ]
  },
  {
   "cell_type": "code",
   "execution_count": 32,
   "metadata": {},
   "outputs": [
    {
     "data": {
      "text/plain": [
       "{'2009': 1,\n",
       " '2010': 11,\n",
       " '2011': 49,\n",
       " '2012': 67,\n",
       " '2013': 60,\n",
       " '2014': 59,\n",
       " '2015': 73,\n",
       " '2016': 48,\n",
       " '2017': 104,\n",
       " '2018': 17}"
      ]
     },
     "execution_count": 32,
     "metadata": {},
     "output_type": "execute_result"
    }
   ],
   "source": [
    "apply_func(\"CMU\")\n"
   ]
  },
  {
   "cell_type": "code",
   "execution_count": 33,
   "metadata": {},
   "outputs": [
    {
     "data": {
      "text/plain": [
       "{'2009': 4,\n",
       " '2010': 42,\n",
       " '2011': 107,\n",
       " '2012': 109,\n",
       " '2013': 90,\n",
       " '2014': 126,\n",
       " '2015': 159,\n",
       " '2016': 138,\n",
       " '2017': 155,\n",
       " '2018': 85}"
      ]
     },
     "execution_count": 33,
     "metadata": {},
     "output_type": "execute_result"
    }
   ],
   "source": [
    "apply_func(\"Columbia\")"
   ]
  },
  {
   "cell_type": "code",
   "execution_count": null,
   "metadata": {},
   "outputs": [],
   "source": []
  }
 ],
 "metadata": {
  "kernelspec": {
   "display_name": "Python 3",
   "language": "python",
   "name": "python3"
  },
  "language_info": {
   "codemirror_mode": {
    "name": "ipython",
    "version": 3
   },
   "file_extension": ".py",
   "mimetype": "text/x-python",
   "name": "python",
   "nbconvert_exporter": "python",
   "pygments_lexer": "ipython3",
   "version": "3.6.3"
  }
 },
 "nbformat": 4,
 "nbformat_minor": 2
}
