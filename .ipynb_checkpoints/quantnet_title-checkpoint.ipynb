{
 "cells": [
  {
   "cell_type": "code",
   "execution_count": 1,
   "metadata": {},
   "outputs": [],
   "source": [
    "import requests\n",
    "from bs4 import BeautifulSoup\n",
    "import pandas as pd"
   ]
  },
  {
   "cell_type": "code",
   "execution_count": null,
   "metadata": {},
   "outputs": [],
   "source": [
    "base = \"https://quantnet.com/tracker/\"\n",
    "title=[]\n",
    "for i in range(1,341):\n",
    "    if i==1:\n",
    "        url=base\n",
    "    else:\n",
    "        url=base+'page-'+str(i)\n",
    "    response = requests.get(url)\n",
    "    if response.status_code == 200:\n",
    "#         print(\"Success\")\n",
    "        results = BeautifulSoup(response.content,'lxml')\n",
    "        all_div=results.find_all('div',  {\"class\": \"structItem-title\"})\n",
    "        for _ in all_div:\n",
    "            title_tag=_.find('a') \n",
    "            title.append(title_tag.get_text().strip('\\n').strip())\n",
    "    else:\n",
    "        print(\"Page %d Failure: \"% i)\n"
   ]
  },
  {
   "cell_type": "code",
   "execution_count": 5,
   "metadata": {},
   "outputs": [],
   "source": [
    "name=['title']\n",
    "test= pd.DataFrame(columns=name, data= title)\n",
    "test.to_csv('./quantdata/title.csv')"
   ]
  },
  {
   "cell_type": "code",
   "execution_count": null,
   "metadata": {},
   "outputs": [],
   "source": []
  }
 ],
 "metadata": {
  "kernelspec": {
   "display_name": "Python 3",
   "language": "python",
   "name": "python3"
  },
  "language_info": {
   "codemirror_mode": {
    "name": "ipython",
    "version": 3
   },
   "file_extension": ".py",
   "mimetype": "text/x-python",
   "name": "python",
   "nbconvert_exporter": "python",
   "pygments_lexer": "ipython3",
   "version": "3.6.3"
  }
 },
 "nbformat": 4,
 "nbformat_minor": 2
}
