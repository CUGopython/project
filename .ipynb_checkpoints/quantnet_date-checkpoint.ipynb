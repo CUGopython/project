{
 "cells": [
  {
   "cell_type": "code",
   "execution_count": 2,
   "metadata": {},
   "outputs": [],
   "source": [
    "import requests\n",
    "from bs4 import BeautifulSoup\n",
    "import pandas as pd"
   ]
  },
  {
   "cell_type": "code",
   "execution_count": null,
   "metadata": {},
   "outputs": [],
   "source": [
    "base = \"https://quantnet.com/tracker/\"\n",
    "date=[]\n",
    "for i in range(1,341):\n",
    "    if i==1:\n",
    "        url=base\n",
    "    else:\n",
    "        url=base+'page-'+str(i)\n",
    "    response = requests.get(url)\n",
    "    if response.status_code == 200:\n",
    "#         print(\"Success\")\n",
    "        results = BeautifulSoup(response.content,'lxml')\n",
    "        all_ul=results.find_all('ul',  {\"class\": \"structItem-parts\"})\n",
    "        for _ in all_ul:\n",
    "            li=_.find('li',{'class':'structItem-dateSubmitted'})\n",
    "            if li:\n",
    "                date.append(_.get_text().strip('\\n').strip())\n",
    "            else:\n",
    "                date.append(None)\n",
    "    else:\n",
    "        print(\"Page %d Failure: \"% i)\n",
    "\n"
   ]
  },
  {
   "cell_type": "code",
   "execution_count": 5,
   "metadata": {},
   "outputs": [],
   "source": [
    "name=['date']\n",
    "test= pd.DataFrame(columns=name, data= date)\n",
    "test.to_csv('./quantdata/date.csv')"
   ]
  },
  {
   "cell_type": "code",
   "execution_count": null,
   "metadata": {},
   "outputs": [],
   "source": []
  }
 ],
 "metadata": {
  "kernelspec": {
   "display_name": "Python 3",
   "language": "python",
   "name": "python3"
  },
  "language_info": {
   "codemirror_mode": {
    "name": "ipython",
    "version": 3
   },
   "file_extension": ".py",
   "mimetype": "text/x-python",
   "name": "python",
   "nbconvert_exporter": "python",
   "pygments_lexer": "ipython3",
   "version": "3.6.3"
  }
 },
 "nbformat": 4,
 "nbformat_minor": 2
}
